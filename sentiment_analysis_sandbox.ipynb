{
 "cells": [
  {
   "cell_type": "markdown",
   "metadata": {},
   "source": []
  },
  {
   "cell_type": "code",
   "execution_count": 56,
   "metadata": {},
   "outputs": [
    {
     "name": "stdout",
     "output_type": "stream",
     "text": [
      "showing info https://raw.githubusercontent.com/nltk/nltk_data/gh-pages/index.xml\n"
     ]
    },
    {
     "data": {
      "text/plain": [
       "True"
      ]
     },
     "execution_count": 56,
     "metadata": {},
     "output_type": "execute_result"
    }
   ],
   "source": [
    "import pandas as pd\n",
    "import nltk\n",
    "from nltk.corpus import stopwords, sentiwordnet as swn\n",
    "from nltk.stem import WordNetLemmatizer\n",
    "from nltk import ngrams\n",
    "from sklearn.feature_extraction.text import CountVectorizer\n",
    "from vaderSentiment.vaderSentiment import SentimentIntensityAnalyzer\n",
    "from nltk.stem import WordNetLemmatizer\n",
    "nltk.download()\n"
   ]
  },
  {
   "cell_type": "code",
   "execution_count": 8,
   "metadata": {},
   "outputs": [],
   "source": [
    "df = pd.read_csv('urls_pos_1.txt_df.csv')"
   ]
  },
  {
   "cell_type": "code",
   "execution_count": 4,
   "metadata": {},
   "outputs": [
    {
     "data": {
      "text/html": [
       "<div>\n",
       "<style scoped>\n",
       "    .dataframe tbody tr th:only-of-type {\n",
       "        vertical-align: middle;\n",
       "    }\n",
       "\n",
       "    .dataframe tbody tr th {\n",
       "        vertical-align: top;\n",
       "    }\n",
       "\n",
       "    .dataframe thead th {\n",
       "        text-align: right;\n",
       "    }\n",
       "</style>\n",
       "<table border=\"1\" class=\"dataframe\">\n",
       "  <thead>\n",
       "    <tr style=\"text-align: right;\">\n",
       "      <th></th>\n",
       "      <th>Unnamed: 0</th>\n",
       "      <th>usernames</th>\n",
       "      <th>ratings</th>\n",
       "      <th>reviews</th>\n",
       "      <th>usefulness_rating</th>\n",
       "      <th>name</th>\n",
       "      <th>id</th>\n",
       "    </tr>\n",
       "  </thead>\n",
       "  <tbody>\n",
       "    <tr>\n",
       "      <th>0</th>\n",
       "      <td>0</td>\n",
       "      <td>zardoz-13</td>\n",
       "      <td>1</td>\n",
       "      <td>\"Hoods\" doesn't deliver the goods. This half-b...</td>\n",
       "      <td>0.500000</td>\n",
       "      <td>Hoods</td>\n",
       "      <td>tt0166219</td>\n",
       "    </tr>\n",
       "    <tr>\n",
       "      <th>1</th>\n",
       "      <td>1</td>\n",
       "      <td>MovieMan-112</td>\n",
       "      <td>-1</td>\n",
       "      <td>No review</td>\n",
       "      <td>-1.000000</td>\n",
       "      <td>Hoods</td>\n",
       "      <td>tt0166219</td>\n",
       "    </tr>\n",
       "    <tr>\n",
       "      <th>2</th>\n",
       "      <td>2</td>\n",
       "      <td>wheels-2</td>\n",
       "      <td>-1</td>\n",
       "      <td>is forced to conform to 90 minutes TV time. Ma...</td>\n",
       "      <td>0.333333</td>\n",
       "      <td>Hoods</td>\n",
       "      <td>tt0166219</td>\n",
       "    </tr>\n",
       "    <tr>\n",
       "      <th>3</th>\n",
       "      <td>3</td>\n",
       "      <td>Gibbs52</td>\n",
       "      <td>-1</td>\n",
       "      <td>I just called my brother Paulie on the phone a...</td>\n",
       "      <td>0.125000</td>\n",
       "      <td>Hoods</td>\n",
       "      <td>tt0166219</td>\n",
       "    </tr>\n",
       "    <tr>\n",
       "      <th>4</th>\n",
       "      <td>4</td>\n",
       "      <td>wmorrow59</td>\n",
       "      <td>-1</td>\n",
       "      <td>No review</td>\n",
       "      <td>-1.000000</td>\n",
       "      <td>The Goat</td>\n",
       "      <td>tt0012224</td>\n",
       "    </tr>\n",
       "  </tbody>\n",
       "</table>\n",
       "</div>"
      ],
      "text/plain": [
       "   Unnamed: 0     usernames  ratings  \\\n",
       "0           0     zardoz-13        1   \n",
       "1           1  MovieMan-112       -1   \n",
       "2           2      wheels-2       -1   \n",
       "3           3       Gibbs52       -1   \n",
       "4           4     wmorrow59       -1   \n",
       "\n",
       "                                             reviews  usefulness_rating  \\\n",
       "0  \"Hoods\" doesn't deliver the goods. This half-b...           0.500000   \n",
       "1                                          No review          -1.000000   \n",
       "2  is forced to conform to 90 minutes TV time. Ma...           0.333333   \n",
       "3  I just called my brother Paulie on the phone a...           0.125000   \n",
       "4                                          No review          -1.000000   \n",
       "\n",
       "       name         id  \n",
       "0     Hoods  tt0166219  \n",
       "1     Hoods  tt0166219  \n",
       "2     Hoods  tt0166219  \n",
       "3     Hoods  tt0166219  \n",
       "4  The Goat  tt0012224  "
      ]
     },
     "execution_count": 4,
     "metadata": {},
     "output_type": "execute_result"
    }
   ],
   "source": [
    "df.head(5)"
   ]
  },
  {
   "cell_type": "code",
   "execution_count": 16,
   "metadata": {},
   "outputs": [],
   "source": [
    "oceans_12 = df[df['name']==\"Ocean's Twelve\"]"
   ]
  },
  {
   "cell_type": "code",
   "execution_count": 34,
   "metadata": {},
   "outputs": [],
   "source": [
    "review = oceans_12.sort_values('ratings', ascending=False).head(1).iloc[0]['reviews']"
   ]
  },
  {
   "cell_type": "code",
   "execution_count": null,
   "metadata": {},
   "outputs": [],
   "source": [
    "review_negative = oceans_12.sort_values('ratings')\n",
    "review_negative = review_negative[review_negative['reviews'] is not \"No Review\" and review_negative['ratings'] > 0].iloc[0]['reviews']\n",
    "print(review_negative)"
   ]
  },
  {
   "attachments": {},
   "cell_type": "markdown",
   "metadata": {},
   "source": [
    "Approach 1 : VADER sentiment analysis (pretrained sentiment analyzer)"
   ]
  },
  {
   "cell_type": "code",
   "execution_count": 52,
   "metadata": {},
   "outputs": [],
   "source": [
    "review_root = review.lower().replace(\"'\", '').replace('[^\\w\\s]', ' ').replace(\" \\d+\", \" \").replace(' +', ' ').strip()\n",
    "review_negative_root = review_negative.lower().replace(\"'\", '').replace(\n",
    "    '[^\\w\\s]', ' ').replace(\" \\d+\", \" \").replace(' +', ' ').strip()\n"
   ]
  },
  {
   "cell_type": "code",
   "execution_count": 54,
   "metadata": {},
   "outputs": [
    {
     "name": "stdout",
     "output_type": "stream",
     "text": [
      "{'neg': 0.045, 'neu': 0.734, 'pos': 0.221, 'compound': 0.9947}\n",
      "{'neg': 0.146, 'neu': 0.741, 'pos': 0.113, 'compound': -0.8202}\n"
     ]
    }
   ],
   "source": [
    "analyser = SentimentIntensityAnalyzer()\n",
    "sentiment_score_pos = analyser.polarity_scores(review_root)\n",
    "print(sentiment_score_pos)\n",
    "sentiment_score_neg = analyser.polarity_scores(review_negative_root)\n",
    "print(sentiment_score_neg)\n"
   ]
  },
  {
   "attachments": {},
   "cell_type": "markdown",
   "metadata": {},
   "source": [
    "Stopwords removing and tokenization"
   ]
  },
  {
   "cell_type": "code",
   "execution_count": null,
   "metadata": {},
   "outputs": [],
   "source": [
    "stopwords = nltk.corpus.stopwords.words('english')\n",
    "tokenized_pos = [w for w in nltk.word_tokenize(review_root) if w not in stopwords]\n",
    "tokenized_negative = [w for w in nltk.word_tokenize(\n",
    "    review_negative_root) if w not in stopwords]\n",
    "sentiment_score_pos2 = analyser.polarity_scores(' '.join(tokenized_pos))\n",
    "sentiment_score_neg2 = analyser.polarity_scores(' '.join(tokenized_negative))\n",
    "print(sentiment_score_pos2)\n",
    "print(sentiment_score_neg2)\n",
    "tokenized_negative\n"
   ]
  },
  {
   "attachments": {},
   "cell_type": "markdown",
   "metadata": {},
   "source": [
    "Word lemmatization + above"
   ]
  },
  {
   "cell_type": "code",
   "execution_count": 68,
   "metadata": {},
   "outputs": [
    {
     "name": "stdout",
     "output_type": "stream",
     "text": [
      "{'neg': 0.054, 'neu': 0.709, 'pos': 0.237, 'compound': 0.9874}\n",
      "{'neg': 0.237, 'neu': 0.601, 'pos': 0.162, 'compound': -0.8592}\n"
     ]
    }
   ],
   "source": [
    "lem = WordNetLemmatizer()\n",
    "lem_neg = [lem.lemmatize(w) for w in tokenized_negative]\n",
    "lem_pos = [lem.lemmatize(w) for w in tokenized_pos]\n",
    "sentiment_score_pos3 = analyser.polarity_scores(' '.join(lem_pos))\n",
    "sentiment_score_neg3 = analyser.polarity_scores(' '.join(lem_neg))\n",
    "print(sentiment_score_pos3)\n",
    "print(sentiment_score_neg3)\n"
   ]
  },
  {
   "cell_type": "code",
   "execution_count": 70,
   "metadata": {},
   "outputs": [
    {
     "name": "stderr",
     "output_type": "stream",
     "text": [
      "C:\\Users\\doanl\\AppData\\Local\\Temp\\ipykernel_10964\\2998188291.py:1: FutureWarning: The default value of regex will change from True to False in a future version.\n",
      "  o12 = oceans_12['reviews_clean'] = df['reviews'].str.lower().str.replace(\"'\", '').str.replace(\n",
      "C:\\Users\\doanl\\AppData\\Local\\Temp\\ipykernel_10964\\2998188291.py:2: FutureWarning: The default value of regex will change from True to False in a future version.\n",
      "  '[^\\w\\s]', ' ').str.replace(\" \\d+\", \" \").str.replace(' +', ' ').str.strip()\n",
      "C:\\Users\\doanl\\AppData\\Local\\Temp\\ipykernel_10964\\2998188291.py:1: SettingWithCopyWarning: \n",
      "A value is trying to be set on a copy of a slice from a DataFrame.\n",
      "Try using .loc[row_indexer,col_indexer] = value instead\n",
      "\n",
      "See the caveats in the documentation: https://pandas.pydata.org/pandas-docs/stable/user_guide/indexing.html#returning-a-view-versus-a-copy\n",
      "  o12 = oceans_12['reviews_clean'] = df['reviews'].str.lower().str.replace(\"'\", '').str.replace(\n"
     ]
    }
   ],
   "source": [
    "o12 = oceans_12['reviews_clean'] = df['reviews'].str.lower().str.replace(\"'\", '').str.replace(\n",
    "    '[^\\w\\s]', ' ').str.replace(\" \\d+\", \" \").str.replace(' +', ' ').str.strip()\n",
    "#strip of punctuation, whitespace in string, and lowercase"
   ]
  },
  {
   "cell_type": "code",
   "execution_count": 71,
   "metadata": {},
   "outputs": [],
   "source": [
    "o12.to_csv('oceans_12Reviews')"
   ]
  },
  {
   "cell_type": "code",
   "execution_count": null,
   "metadata": {},
   "outputs": [],
   "source": []
  }
 ],
 "metadata": {
  "kernelspec": {
   "display_name": "Python 3",
   "language": "python",
   "name": "python3"
  },
  "language_info": {
   "codemirror_mode": {
    "name": "ipython",
    "version": 3
   },
   "file_extension": ".py",
   "mimetype": "text/x-python",
   "name": "python",
   "nbconvert_exporter": "python",
   "pygments_lexer": "ipython3",
   "version": "3.10.10"
  },
  "orig_nbformat": 4
 },
 "nbformat": 4,
 "nbformat_minor": 2
}
